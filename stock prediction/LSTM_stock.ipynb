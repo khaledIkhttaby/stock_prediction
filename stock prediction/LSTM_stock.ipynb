{
 "cells": [
  {
   "cell_type": "code",
   "execution_count": 6,
   "metadata": {},
   "outputs": [],
   "source": [
    "import numpy as np\n",
    "import matplotlib.pyplot as plt\n",
    "import pandas as pd\n",
    "from sklearn.preprocessing import MinMaxScaler"
   ]
  },
  {
   "cell_type": "code",
   "execution_count": 19,
   "metadata": {},
   "outputs": [],
   "source": [
    "apple_training_complete = pd.read_csv(r'AAPLe.csv')"
   ]
  },
  {
   "cell_type": "code",
   "execution_count": 20,
   "metadata": {},
   "outputs": [
    {
     "data": {
      "text/plain": [
       "755"
      ]
     },
     "execution_count": 20,
     "metadata": {},
     "output_type": "execute_result"
    }
   ],
   "source": [
    "len(apple_training_complete)"
   ]
  },
  {
   "cell_type": "code",
   "execution_count": 21,
   "metadata": {},
   "outputs": [],
   "source": [
    "apple_training_processed = apple_training_complete.iloc[:, 1:2].values"
   ]
  },
  {
   "cell_type": "code",
   "execution_count": 22,
   "metadata": {},
   "outputs": [],
   "source": [
    "scaler = MinMaxScaler(feature_range = (0, 1))\n",
    "\n",
    "apple_training_scaled = scaler.fit_transform(apple_training_processed)"
   ]
  },
  {
   "cell_type": "code",
   "execution_count": 24,
   "metadata": {},
   "outputs": [],
   "source": [
    "features_set = []\n",
    "labels = []\n",
    "for i in range(60, 755):\n",
    "    features_set.append(apple_training_scaled[i-60:i, 0])\n",
    "    labels.append(apple_training_scaled[i, 0])"
   ]
  },
  {
   "cell_type": "code",
   "execution_count": 25,
   "metadata": {},
   "outputs": [],
   "source": [
    "features_set, labels = np.array(features_set), np.array(labels)"
   ]
  },
  {
   "cell_type": "code",
   "execution_count": 28,
   "metadata": {},
   "outputs": [
    {
     "data": {
      "text/plain": [
       "(695,)"
      ]
     },
     "execution_count": 28,
     "metadata": {},
     "output_type": "execute_result"
    }
   ],
   "source": [
    "labels.shape"
   ]
  },
  {
   "cell_type": "code",
   "execution_count": 49,
   "metadata": {},
   "outputs": [],
   "source": [
    "features_set = np.reshape(features_set, (features_set.shape[0], 1, features_set.shape[1]))"
   ]
  },
  {
   "cell_type": "code",
   "execution_count": 50,
   "metadata": {},
   "outputs": [
    {
     "data": {
      "text/plain": [
       "(695, 1, 60)"
      ]
     },
     "execution_count": 50,
     "metadata": {},
     "output_type": "execute_result"
    }
   ],
   "source": [
    "features_set.shape"
   ]
  },
  {
   "cell_type": "code",
   "execution_count": 51,
   "metadata": {},
   "outputs": [
    {
     "data": {
      "text/plain": [
       "array([[[0.03176831, 0.03029184, 0.03181753, ..., 0.08346867,\n",
       "         0.07916235, 0.08708598]],\n",
       "\n",
       "       [[0.03029184, 0.03181753, 0.03260495, ..., 0.07916235,\n",
       "         0.08708598, 0.08521582]],\n",
       "\n",
       "       [[0.03181753, 0.03260495, 0.03767409, ..., 0.08708598,\n",
       "         0.08521582, 0.08199225]],\n",
       "\n",
       "       ...,\n",
       "\n",
       "       [[0.54129146, 0.568089  , 0.57456078, ..., 0.8367046 ,\n",
       "         0.81426256, 0.83946063]],\n",
       "\n",
       "       [[0.568089  , 0.57456078, 0.56848273, ..., 0.81426256,\n",
       "         0.83946063, 0.82646786]],\n",
       "\n",
       "       [[0.57456078, 0.56848273, 0.57278904, ..., 0.83946063,\n",
       "         0.82646786, 0.78945815]]])"
      ]
     },
     "execution_count": 51,
     "metadata": {},
     "output_type": "execute_result"
    }
   ],
   "source": [
    "features_set"
   ]
  },
  {
   "cell_type": "code",
   "execution_count": 32,
   "metadata": {},
   "outputs": [
    {
     "name": "stderr",
     "output_type": "stream",
     "text": [
      "Using TensorFlow backend.\n"
     ]
    }
   ],
   "source": [
    "from keras.models import Sequential\n",
    "from keras.layers import Dense\n",
    "from keras.layers import LSTM\n",
    "from keras.layers import Dropout"
   ]
  },
  {
   "cell_type": "code",
   "execution_count": 53,
   "metadata": {},
   "outputs": [],
   "source": [
    "model = Sequential()"
   ]
  },
  {
   "cell_type": "code",
   "execution_count": 54,
   "metadata": {},
   "outputs": [],
   "source": [
    "model.add(LSTM(units=50, return_sequences=True))\n",
    "model.add(Dropout(0.2))\n",
    "\n",
    "model.add(LSTM(units=50, return_sequences=True))\n",
    "model.add(Dropout(0.2))\n",
    "\n",
    "model.add(LSTM(units=50))\n",
    "model.add(Dropout(0.2))"
   ]
  },
  {
   "cell_type": "code",
   "execution_count": 55,
   "metadata": {},
   "outputs": [],
   "source": [
    "model.add(Dense(units = 1))"
   ]
  },
  {
   "cell_type": "code",
   "execution_count": 56,
   "metadata": {},
   "outputs": [],
   "source": [
    "model.compile(optimizer = 'adam', loss = 'mean_squared_error',metrics=['acc'])"
   ]
  },
  {
   "cell_type": "code",
   "execution_count": 57,
   "metadata": {},
   "outputs": [
    {
     "name": "stdout",
     "output_type": "stream",
     "text": [
      "Epoch 1/100\n",
      "695/695 [==============================] - 2s 2ms/step - loss: 0.0760 - acc: 0.0014\n",
      "Epoch 2/100\n",
      "695/695 [==============================] - 0s 186us/step - loss: 0.0133 - acc: 0.0029\n",
      "Epoch 3/100\n",
      "695/695 [==============================] - 0s 181us/step - loss: 0.0072 - acc: 0.0029\n",
      "Epoch 4/100\n",
      "695/695 [==============================] - 0s 186us/step - loss: 0.0051 - acc: 0.0029\n",
      "Epoch 5/100\n",
      "695/695 [==============================] - 0s 201us/step - loss: 0.0052 - acc: 0.0029\n",
      "Epoch 6/100\n",
      "695/695 [==============================] - 0s 197us/step - loss: 0.0050 - acc: 0.0029\n",
      "Epoch 7/100\n",
      "695/695 [==============================] - 0s 209us/step - loss: 0.0040 - acc: 0.0029\n",
      "Epoch 8/100\n",
      "695/695 [==============================] - 0s 196us/step - loss: 0.0035 - acc: 0.0029\n",
      "Epoch 9/100\n",
      "695/695 [==============================] - 0s 207us/step - loss: 0.0032 - acc: 0.0029\n",
      "Epoch 10/100\n",
      "695/695 [==============================] - 0s 210us/step - loss: 0.0032 - acc: 0.0029\n",
      "Epoch 11/100\n",
      "695/695 [==============================] - 0s 196us/step - loss: 0.0033 - acc: 0.0029\n",
      "Epoch 12/100\n",
      "695/695 [==============================] - 0s 204us/step - loss: 0.0027 - acc: 0.0029\n",
      "Epoch 13/100\n",
      "695/695 [==============================] - 0s 197us/step - loss: 0.0028 - acc: 0.0029\n",
      "Epoch 14/100\n",
      "695/695 [==============================] - 0s 210us/step - loss: 0.0025 - acc: 0.0029\n",
      "Epoch 15/100\n",
      "695/695 [==============================] - 0s 190us/step - loss: 0.0024 - acc: 0.0029\n",
      "Epoch 16/100\n",
      "695/695 [==============================] - 0s 193us/step - loss: 0.0025 - acc: 0.0029\n",
      "Epoch 17/100\n",
      "695/695 [==============================] - 0s 191us/step - loss: 0.0021 - acc: 0.0029\n",
      "Epoch 18/100\n",
      "695/695 [==============================] - 0s 209us/step - loss: 0.0024 - acc: 0.0029\n",
      "Epoch 19/100\n",
      "695/695 [==============================] - 0s 196us/step - loss: 0.0022 - acc: 0.0029\n",
      "Epoch 20/100\n",
      "695/695 [==============================] - 0s 204us/step - loss: 0.0021 - acc: 0.0029\n",
      "Epoch 21/100\n",
      "695/695 [==============================] - 0s 219us/step - loss: 0.0022 - acc: 0.0029\n",
      "Epoch 22/100\n",
      "695/695 [==============================] - 0s 204us/step - loss: 0.0017 - acc: 0.0029\n",
      "Epoch 23/100\n",
      "695/695 [==============================] - 0s 206us/step - loss: 0.0019 - acc: 0.0029\n",
      "Epoch 24/100\n",
      "695/695 [==============================] - 0s 187us/step - loss: 0.0021 - acc: 0.0029\n",
      "Epoch 25/100\n",
      "695/695 [==============================] - 0s 197us/step - loss: 0.0017 - acc: 0.0029\n",
      "Epoch 26/100\n",
      "695/695 [==============================] - 0s 223us/step - loss: 0.0021 - acc: 0.0029\n",
      "Epoch 27/100\n",
      "695/695 [==============================] - 0s 226us/step - loss: 0.0016 - acc: 0.0029\n",
      "Epoch 28/100\n",
      "695/695 [==============================] - 0s 223us/step - loss: 0.0019 - acc: 0.0029\n",
      "Epoch 29/100\n",
      "695/695 [==============================] - 0s 194us/step - loss: 0.0019 - acc: 0.0029\n",
      "Epoch 30/100\n",
      "695/695 [==============================] - 0s 209us/step - loss: 0.0019 - acc: 0.0029\n",
      "Epoch 31/100\n",
      "695/695 [==============================] - 0s 230us/step - loss: 0.0016 - acc: 0.0029\n",
      "Epoch 32/100\n",
      "695/695 [==============================] - 0s 210us/step - loss: 0.0018 - acc: 0.0029\n",
      "Epoch 33/100\n",
      "695/695 [==============================] - 0s 212us/step - loss: 0.0017 - acc: 0.0029\n",
      "Epoch 34/100\n",
      "695/695 [==============================] - 0s 212us/step - loss: 0.0017 - acc: 0.0029\n",
      "Epoch 35/100\n",
      "695/695 [==============================] - 0s 242us/step - loss: 0.0016 - acc: 0.0029\n",
      "Epoch 36/100\n",
      "695/695 [==============================] - 0s 209us/step - loss: 0.0018 - acc: 0.0029\n",
      "Epoch 37/100\n",
      "695/695 [==============================] - 0s 204us/step - loss: 0.0016 - acc: 0.0029\n",
      "Epoch 38/100\n",
      "695/695 [==============================] - 0s 256us/step - loss: 0.0019 - acc: 0.0029\n",
      "Epoch 39/100\n",
      "695/695 [==============================] - 0s 209us/step - loss: 0.0014 - acc: 0.0029\n",
      "Epoch 40/100\n",
      "695/695 [==============================] - 0s 243us/step - loss: 0.0014 - acc: 0.0029\n",
      "Epoch 41/100\n",
      "695/695 [==============================] - 0s 239us/step - loss: 0.0014 - acc: 0.0029\n",
      "Epoch 42/100\n",
      "695/695 [==============================] - 0s 186us/step - loss: 0.0016 - acc: 0.0029\n",
      "Epoch 43/100\n",
      "695/695 [==============================] - ETA: 0s - loss: 0.0017 - acc: 0.0039   - 0s 224us/step - loss: 0.0016 - acc: 0.0029\n",
      "Epoch 44/100\n",
      "695/695 [==============================] - 0s 200us/step - loss: 0.0016 - acc: 0.0029\n",
      "Epoch 45/100\n",
      "695/695 [==============================] - 0s 206us/step - loss: 0.0013 - acc: 0.0029\n",
      "Epoch 46/100\n",
      "695/695 [==============================] - 0s 197us/step - loss: 0.0015 - acc: 0.0029\n",
      "Epoch 47/100\n",
      "695/695 [==============================] - 0s 220us/step - loss: 0.0016 - acc: 0.0029\n",
      "Epoch 48/100\n",
      "695/695 [==============================] - 0s 193us/step - loss: 0.0016 - acc: 0.0029\n",
      "Epoch 49/100\n",
      "695/695 [==============================] - 0s 232us/step - loss: 0.0015 - acc: 0.0029\n",
      "Epoch 50/100\n",
      "695/695 [==============================] - 0s 229us/step - loss: 0.0012 - acc: 0.0029 \n",
      "Epoch 51/100\n",
      "695/695 [==============================] - 0s 243us/step - loss: 0.0016 - acc: 0.0029\n",
      "Epoch 52/100\n",
      "695/695 [==============================] - 0s 224us/step - loss: 0.0012 - acc: 0.0029\n",
      "Epoch 53/100\n",
      "695/695 [==============================] - 0s 226us/step - loss: 0.0014 - acc: 0.0029\n",
      "Epoch 54/100\n",
      "695/695 [==============================] - 0s 209us/step - loss: 0.0012 - acc: 0.0029\n",
      "Epoch 55/100\n",
      "695/695 [==============================] - ETA: 0s - loss: 0.0015 - acc: 0.0035   - 0s 207us/step - loss: 0.0014 - acc: 0.0029\n",
      "Epoch 56/100\n",
      "695/695 [==============================] - 0s 206us/step - loss: 0.0013 - acc: 0.0029\n",
      "Epoch 57/100\n",
      "695/695 [==============================] - 0s 204us/step - loss: 0.0013 - acc: 0.0029\n",
      "Epoch 58/100\n",
      "695/695 [==============================] - 0s 199us/step - loss: 0.0015 - acc: 0.0029\n",
      "Epoch 59/100\n",
      "695/695 [==============================] - 0s 210us/step - loss: 0.0013 - acc: 0.0029\n",
      "Epoch 60/100\n",
      "695/695 [==============================] - 0s 223us/step - loss: 0.0012 - acc: 0.0029\n",
      "Epoch 61/100\n",
      "695/695 [==============================] - 0s 214us/step - loss: 0.0016 - acc: 0.0029\n",
      "Epoch 62/100\n",
      "695/695 [==============================] - 0s 213us/step - loss: 0.0017 - acc: 0.0029\n",
      "Epoch 63/100\n",
      "695/695 [==============================] - 0s 200us/step - loss: 0.0014 - acc: 0.0029\n",
      "Epoch 64/100\n",
      "695/695 [==============================] - 0s 216us/step - loss: 0.0015 - acc: 0.0029\n",
      "Epoch 65/100\n",
      "695/695 [==============================] - 0s 201us/step - loss: 0.0014 - acc: 0.0029\n",
      "Epoch 66/100\n",
      "695/695 [==============================] - 0s 191us/step - loss: 0.0013 - acc: 0.0029\n",
      "Epoch 67/100\n",
      "695/695 [==============================] - 0s 217us/step - loss: 0.0013 - acc: 0.0029\n",
      "Epoch 68/100\n",
      "695/695 [==============================] - 0s 219us/step - loss: 0.0014 - acc: 0.0029\n",
      "Epoch 69/100\n",
      "695/695 [==============================] - 0s 206us/step - loss: 0.0014 - acc: 0.0029\n",
      "Epoch 70/100\n",
      "695/695 [==============================] - 0s 206us/step - loss: 0.0013 - acc: 0.0029\n",
      "Epoch 71/100\n",
      "695/695 [==============================] - 0s 193us/step - loss: 0.0011 - acc: 0.0029\n",
      "Epoch 72/100\n",
      "695/695 [==============================] - 0s 196us/step - loss: 0.0015 - acc: 0.0029\n",
      "Epoch 73/100\n",
      "695/695 [==============================] - 0s 206us/step - loss: 9.9885e-04 - acc: 0.0029\n",
      "Epoch 74/100\n",
      "695/695 [==============================] - ETA: 0s - loss: 0.0012 - acc: 0.0020   - 0s 213us/step - loss: 0.0011 - acc: 0.0029\n",
      "Epoch 75/100\n",
      "695/695 [==============================] - 0s 187us/step - loss: 0.0012 - acc: 0.0029\n",
      "Epoch 76/100\n",
      "695/695 [==============================] - ETA: 0s - loss: 0.0013 - acc: 0.0039       - 0s 222us/step - loss: 0.0013 - acc: 0.0029\n",
      "Epoch 77/100\n",
      "695/695 [==============================] - 0s 203us/step - loss: 0.0014 - acc: 0.0029\n",
      "Epoch 78/100\n",
      "695/695 [==============================] - 0s 207us/step - loss: 0.0013 - acc: 0.0029\n",
      "Epoch 79/100\n",
      "695/695 [==============================] - 0s 213us/step - loss: 0.0012 - acc: 0.0029\n",
      "Epoch 80/100\n",
      "695/695 [==============================] - 0s 222us/step - loss: 0.0013 - acc: 0.0029 \n",
      "Epoch 81/100\n",
      "695/695 [==============================] - 0s 199us/step - loss: 0.0011 - acc: 0.0029\n",
      "Epoch 82/100\n",
      "695/695 [==============================] - 0s 207us/step - loss: 0.0013 - acc: 0.0029\n",
      "Epoch 83/100\n",
      "695/695 [==============================] - 0s 178us/step - loss: 0.0013 - acc: 0.0029\n",
      "Epoch 84/100\n",
      "695/695 [==============================] - 0s 220us/step - loss: 0.0011 - acc: 0.0029\n",
      "Epoch 85/100\n",
      "695/695 [==============================] - 0s 207us/step - loss: 0.0012 - acc: 0.0029\n",
      "Epoch 86/100\n",
      "695/695 [==============================] - 0s 181us/step - loss: 0.0013 - acc: 0.0029\n",
      "Epoch 87/100\n",
      "695/695 [==============================] - 0s 191us/step - loss: 0.0015 - acc: 0.0029\n",
      "Epoch 88/100\n",
      "695/695 [==============================] - 0s 188us/step - loss: 0.0015 - acc: 0.0029\n",
      "Epoch 89/100\n",
      "695/695 [==============================] - 0s 187us/step - loss: 0.0012 - acc: 0.0029\n",
      "Epoch 90/100\n",
      "695/695 [==============================] - 0s 180us/step - loss: 0.0013 - acc: 0.0029\n",
      "Epoch 91/100\n",
      "695/695 [==============================] - 0s 206us/step - loss: 0.0012 - acc: 0.0029\n",
      "Epoch 92/100\n",
      "695/695 [==============================] - 0s 212us/step - loss: 0.0012 - acc: 0.0029\n",
      "Epoch 93/100\n",
      "695/695 [==============================] - 0s 199us/step - loss: 0.0010 - acc: 0.0029\n",
      "Epoch 94/100\n",
      "695/695 [==============================] - 0s 196us/step - loss: 0.0010 - acc: 0.0029\n",
      "Epoch 95/100\n",
      "695/695 [==============================] - 0s 184us/step - loss: 9.6807e-04 - acc: 0.0029\n",
      "Epoch 96/100\n",
      "695/695 [==============================] - 0s 183us/step - loss: 0.0011 - acc: 0.0029\n",
      "Epoch 97/100\n",
      "695/695 [==============================] - 0s 216us/step - loss: 9.9470e-04 - acc: 0.0029\n",
      "Epoch 98/100\n",
      "695/695 [==============================] - 0s 194us/step - loss: 0.0012 - acc: 0.0029\n",
      "Epoch 99/100\n",
      "695/695 [==============================] - 0s 197us/step - loss: 0.0013 - acc: 0.0029\n",
      "Epoch 100/100\n",
      "695/695 [==============================] - 0s 213us/step - loss: 0.0011 - acc: 0.0029\n"
     ]
    },
    {
     "data": {
      "text/plain": [
       "<keras.callbacks.callbacks.History at 0x13191a32508>"
      ]
     },
     "execution_count": 57,
     "metadata": {},
     "output_type": "execute_result"
    }
   ],
   "source": [
    "model.fit(features_set, labels, epochs = 100, batch_size = 32)"
   ]
  },
  {
   "cell_type": "code",
   "execution_count": 58,
   "metadata": {},
   "outputs": [],
   "source": [
    "apple_testing_complete = pd.read_csv(r'AAPLe.csv')\n",
    "apple_testing_processed = apple_testing_complete.iloc[:, 1:2].values"
   ]
  },
  {
   "cell_type": "code",
   "execution_count": 59,
   "metadata": {},
   "outputs": [],
   "source": [
    "apple_total = pd.concat((apple_training_complete['Open'], apple_testing_complete['Open']), axis=0)"
   ]
  },
  {
   "cell_type": "code",
   "execution_count": 60,
   "metadata": {},
   "outputs": [],
   "source": [
    "test_inputs = apple_total[len(apple_total) - len(apple_testing_complete) - 60:].values"
   ]
  },
  {
   "cell_type": "code",
   "execution_count": 61,
   "metadata": {},
   "outputs": [],
   "source": [
    "test_inputs = test_inputs.reshape(-1,1)\n",
    "test_inputs = scaler.transform(test_inputs)"
   ]
  },
  {
   "cell_type": "code",
   "execution_count": 62,
   "metadata": {},
   "outputs": [],
   "source": [
    "test_features = []\n",
    "for i in range(60, 80):\n",
    "    test_features.append(test_inputs[i-60:i, 0])"
   ]
  },
  {
   "cell_type": "code",
   "execution_count": 66,
   "metadata": {},
   "outputs": [],
   "source": [
    "test_features = np.array(test_features)\n",
    "test_features = np.reshape(test_features, (test_features.shape[0], 1,test_features.shape[1]))"
   ]
  },
  {
   "cell_type": "code",
   "execution_count": 67,
   "metadata": {},
   "outputs": [],
   "source": [
    "predictions = model.predict(test_features)"
   ]
  },
  {
   "cell_type": "code",
   "execution_count": 68,
   "metadata": {},
   "outputs": [],
   "source": [
    "predictions = scaler.inverse_transform(predictions)"
   ]
  },
  {
   "cell_type": "code",
   "execution_count": 69,
   "metadata": {},
   "outputs": [
    {
     "data": {
      "image/png": "[encoded data removed]",
      "text/plain": [
       "<Figure size 720x432 with 1 Axes>"
      ]
     },
     "metadata": {
      "needs_background": "light"
     },
     "output_type": "display_data"
    }
   ],
   "source": [
    "plt.figure(figsize=(10,6))\n",
    "plt.plot(apple_testing_processed, color='blue', label='Actual Apple Stock Price')\n",
    "plt.plot(predictions , color='red', label='Predicted Apple Stock Price')\n",
    "plt.title('Apple Stock Price Prediction')\n",
    "plt.xlabel('Date')\n",
    "plt.ylabel('Apple Stock Price')\n",
    "plt.legend()\n",
    "plt.show()"
   ]
  },
  {
   "cell_type": "code",
   "execution_count": null,
   "metadata": {},
   "outputs": [],
   "source": []
  },
  {
   "cell_type": "code",
   "execution_count": null,
   "metadata": {},
   "outputs": [],
   "source": []
  },
  {
   "cell_type": "code",
   "execution_count": null,
   "metadata": {},
   "outputs": [],
   "source": []
  },
  {
   "cell_type": "code",
   "execution_count": null,
   "metadata": {},
   "outputs": [],
   "source": []
  },
  {
   "cell_type": "code",
   "execution_count": null,
   "metadata": {},
   "outputs": [],
   "source": []
  },
  {
   "cell_type": "code",
   "execution_count": null,
   "metadata": {},
   "outputs": [],
   "source": []
  },
  {
   "cell_type": "code",
   "execution_count": null,
   "metadata": {},
   "outputs": [],
   "source": []
  },
  {
   "cell_type": "code",
   "execution_count": null,
   "metadata": {},
   "outputs": [],
   "source": []
  },
  {
   "cell_type": "code",
   "execution_count": null,
   "metadata": {},
   "outputs": [],
   "source": []
  },
  {
   "cell_type": "code",
   "execution_count": null,
   "metadata": {},
   "outputs": [],
   "source": []
  },
  {
   "cell_type": "code",
   "execution_count": null,
   "metadata": {},
   "outputs": [],
   "source": []
  }
 ],
 "metadata": {
  "kernelspec": {
   "display_name": "Python 3",
   "language": "python",
   "name": "python3"
  },
  "language_info": {
   "codemirror_mode": {
    "name": "ipython",
    "version": 3
   },
   "file_extension": ".py",
   "mimetype": "text/x-python",
   "name": "python",
   "nbconvert_exporter": "python",
   "pygments_lexer": "ipython3",
   "version": "3.7.7"
  }
 },
 "nbformat": 4,
 "nbformat_minor": 4
}
